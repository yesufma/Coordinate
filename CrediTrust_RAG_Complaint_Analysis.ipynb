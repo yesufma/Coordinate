{
  "nbformat": 4,
  "nbformat_minor": 0,
  "metadata": {
    "colab": {
      "provenance": [],
      "gpuType": "T4",
      "authorship_tag": "ABX9TyPpK8OnvayxUnNSK1jPgONW",
      "include_colab_link": true
    },
    "kernelspec": {
      "name": "python3",
      "display_name": "Python 3"
    },
    "language_info": {
      "name": "python"
    }
  },
  "cells": [
    {
      "cell_type": "markdown",
      "metadata": {
        "id": "view-in-github",
        "colab_type": "text"
      },
      "source": [
        "<a href=\"https://colab.research.google.com/github/yesufma/Coordinate/blob/main/CrediTrust_RAG_Complaint_Analysis.ipynb\" target=\"_parent\"><img src=\"https://colab.research.google.com/assets/colab-badge.svg\" alt=\"Open In Colab\"/></a>"
      ]
    },
    {
      "cell_type": "markdown",
      "source": [
        "#Environment Setup"
      ],
      "metadata": {
        "id": "It4aa9dydO0W"
      }
    },
    {
      "cell_type": "code",
      "execution_count": 20,
      "metadata": {
        "id": "HjF3vP3GeF66",
        "colab": {
          "base_uri": "https://localhost:8080/"
        },
        "outputId": "50df36b2-26aa-46ee-bcf2-8ff5cfdceb48"
      },
      "outputs": [
        {
          "output_type": "stream",
          "name": "stdout",
          "text": [
            "Drive already mounted at /content/drive; to attempt to forcibly remount, call drive.mount(\"/content/drive\", force_remount=True).\n",
            "Columns: ['Date received', 'Product', 'Sub-product', 'Issue', 'Sub-issue', 'Consumer complaint narrative', 'Company public response', 'Company', 'State', 'ZIP code', 'Tags', 'Consumer consent provided?', 'Submitted via', 'Date sent to company', 'Company response to consumer', 'Timely response?', 'Consumer disputed?', 'Complaint ID']\n",
            "\n",
            "First few rows of the data:\n",
            "  Date received                                            Product  \\\n",
            "0    2025-06-20  Credit reporting or other personal consumer re...   \n",
            "1    2025-06-20                                    Debt collection   \n",
            "2    2025-06-20  Credit reporting or other personal consumer re...   \n",
            "3    2025-06-20  Credit reporting or other personal consumer re...   \n",
            "4    2025-06-20  Credit reporting or other personal consumer re...   \n",
            "\n",
            "               Sub-product                                 Issue  \\\n",
            "0         Credit reporting  Incorrect information on your report   \n",
            "1  Telecommunications debt     Attempts to collect debt not owed   \n",
            "2         Credit reporting           Improper use of your report   \n",
            "3         Credit reporting           Improper use of your report   \n",
            "4         Credit reporting  Incorrect information on your report   \n",
            "\n",
            "                                       Sub-issue Consumer complaint narrative  \\\n",
            "0            Information belongs to someone else                          NaN   \n",
            "1                              Debt is not yours                          NaN   \n",
            "2  Reporting company used your report improperly                          NaN   \n",
            "3  Reporting company used your report improperly                          NaN   \n",
            "4                       Account status incorrect                          NaN   \n",
            "\n",
            "                             Company public response  \\\n",
            "0                                                NaN   \n",
            "1  Company can't verify or dispute the facts in t...   \n",
            "2                                                NaN   \n",
            "3                                                NaN   \n",
            "4                                                NaN   \n",
            "\n",
            "                                        Company State ZIP code Tags  \\\n",
            "0           Experian Information Solutions Inc.    FL    32092  NaN   \n",
            "1  Eastern Account Systems of Connecticut, Inc.    FL    342XX  NaN   \n",
            "2        TRANSUNION INTERMEDIATE HOLDINGS, INC.    AZ    85225  NaN   \n",
            "3           Experian Information Solutions Inc.    AZ    85225  NaN   \n",
            "4           Experian Information Solutions Inc.    IL    60628  NaN   \n",
            "\n",
            "  Consumer consent provided? Submitted via Date sent to company  \\\n",
            "0                        NaN           Web           2025-06-20   \n",
            "1                        NaN           Web           2025-06-20   \n",
            "2                        NaN           Web           2025-06-20   \n",
            "3                        NaN           Web           2025-06-20   \n",
            "4                        NaN           Web           2025-06-20   \n",
            "\n",
            "  Company response to consumer Timely response?  Consumer disputed?  \\\n",
            "0                  In progress              Yes                 NaN   \n",
            "1      Closed with explanation              Yes                 NaN   \n",
            "2                  In progress              Yes                 NaN   \n",
            "3                  In progress              Yes                 NaN   \n",
            "4                  In progress              Yes                 NaN   \n",
            "\n",
            "   Complaint ID  \n",
            "0      14195687  \n",
            "1      14195688  \n",
            "2      14195689  \n",
            "3      14195690  \n",
            "4      14195692  \n"
          ]
        }
      ],
      "source": [
        "from google.colab import drive\n",
        "import pandas as pd\n",
        "\n",
        "# Mount Google Drive to access the file (do this once per session)\n",
        "drive.mount('/content/drive')\n",
        "\n",
        "file_path = '/content/drive/MyDrive/complaints.csv'\n",
        "\n",
        "# Use chunked reading to avoid loading the entire file at once\n",
        "chunk_iter = pd.read_csv(file_path, chunksize=100000)\n",
        "\n",
        "# Read the first chunk and show its columns and a small sample\n",
        "df_preview = next(chunk_iter)\n",
        "print(\"Columns:\", df_preview.columns.tolist())\n",
        "print(\"\\nFirst few rows of the data:\")\n",
        "print(df_preview.head())\n",
        "\n"
      ]
    },
    {
      "cell_type": "code",
      "source": [
        "import re\n",
        "\n",
        "# Define the product categories of interest (adjust names exactly as in the data)\n",
        "selected_products = [\n",
        "    'Checking or savings account',\n",
        "    'Credit card or prepaid card',\n",
        "    'Debt collection',\n",
        "    'Mortgage',\n",
        "    'Student loan'\n",
        "]\n",
        "\n",
        "# Initialize a list to collect filtered chunks\n",
        "filtered_chunks = []\n",
        "\n",
        "# Read the file in chunks, filter by product, and drop missing narratives\n",
        "for chunk in pd.read_csv(file_path, chunksize=100000):\n",
        "    # Filter rows for the selected products\n",
        "    chunk_filtered = chunk[chunk['Product'].isin(selected_products)].copy()\n",
        "    # Drop rows where the narrative is missing\n",
        "    chunk_filtered = chunk_filtered.dropna(subset=['Consumer complaint narrative'])\n",
        "    filtered_chunks.append(chunk_filtered)\n",
        "\n",
        "# Concatenate all filtered chunks into a single DataFrame\n",
        "df_filtered = pd.concat(filtered_chunks, ignore_index=True)\n",
        "print(f\"Total rows after filtering and cleaning: {len(df_filtered)}\")\n",
        "\n",
        "# (Optional) View a few rows of the cleaned data\n",
        "print(df_filtered.head())\n"
      ],
      "metadata": {
        "colab": {
          "base_uri": "https://localhost:8080/"
        },
        "id": "lZCF-g0FAobG",
        "outputId": "e0ed075d-e5a0-4ea1-ff47-9661b2523991"
      },
      "execution_count": 21,
      "outputs": [
        {
          "output_type": "stream",
          "name": "stderr",
          "text": [
            "/tmp/ipython-input-21-1752385974.py:16: DtypeWarning: Columns (16) have mixed types. Specify dtype option on import or set low_memory=False.\n",
            "  for chunk in pd.read_csv(file_path, chunksize=100000):\n",
            "/tmp/ipython-input-21-1752385974.py:16: DtypeWarning: Columns (16) have mixed types. Specify dtype option on import or set low_memory=False.\n",
            "  for chunk in pd.read_csv(file_path, chunksize=100000):\n",
            "/tmp/ipython-input-21-1752385974.py:16: DtypeWarning: Columns (16) have mixed types. Specify dtype option on import or set low_memory=False.\n",
            "  for chunk in pd.read_csv(file_path, chunksize=100000):\n",
            "/tmp/ipython-input-21-1752385974.py:16: DtypeWarning: Columns (16) have mixed types. Specify dtype option on import or set low_memory=False.\n",
            "  for chunk in pd.read_csv(file_path, chunksize=100000):\n",
            "/tmp/ipython-input-21-1752385974.py:16: DtypeWarning: Columns (16) have mixed types. Specify dtype option on import or set low_memory=False.\n",
            "  for chunk in pd.read_csv(file_path, chunksize=100000):\n",
            "/tmp/ipython-input-21-1752385974.py:16: DtypeWarning: Columns (16) have mixed types. Specify dtype option on import or set low_memory=False.\n",
            "  for chunk in pd.read_csv(file_path, chunksize=100000):\n"
          ]
        },
        {
          "output_type": "stream",
          "name": "stdout",
          "text": [
            "Total rows after filtering and cleaning: 768431\n",
            "  Date received                      Product                 Sub-product  \\\n",
            "0    2025-06-15                     Mortgage  Conventional home mortgage   \n",
            "1    2025-06-13  Checking or savings account            Checking account   \n",
            "2    2025-06-12              Debt collection     Telecommunications debt   \n",
            "3    2025-06-12              Debt collection     Telecommunications debt   \n",
            "4    2025-06-12              Debt collection               I do not know   \n",
            "\n",
            "                                               Issue  \\\n",
            "0  Applying for a mortgage or refinancing an exis...   \n",
            "1                                Managing an account   \n",
            "2                  Attempts to collect debt not owed   \n",
            "3                 False statements or representation   \n",
            "4                  Attempts to collect debt not owed   \n",
            "\n",
            "                                           Sub-issue  \\\n",
            "0  Changes in loan terms during the application p...   \n",
            "1                           Deposits and withdrawals   \n",
            "2                                  Debt is not yours   \n",
            "3  Indicated you were committing crime by not pay...   \n",
            "4                  Debt was result of identity theft   \n",
            "\n",
            "                        Consumer complaint narrative  \\\n",
            "0  I signed a purchase agreement with Lennar Corp...   \n",
            "1  I made the mistake of using my wellsfargo debi...   \n",
            "2  As I was reviewing a new dispute with XXXX XXX...   \n",
            "3  SUNRISE CREDIT SERVI, I am unaware of this deb...   \n",
            "4  Consumer Financial Protection Bureau ( CFPB ) ...   \n",
            "\n",
            "                             Company public response  \\\n",
            "0  Company has responded to the consumer and the ...   \n",
            "1  Company has responded to the consumer and the ...   \n",
            "2  Company has responded to the consumer and the ...   \n",
            "3  Company has responded to the consumer and the ...   \n",
            "4  Company has responded to the consumer and the ...   \n",
            "\n",
            "                          Company State ZIP code Tags  \\\n",
            "0  Lennar Financial Services, LLC    IL    60538  NaN   \n",
            "1           WELLS FARGO & COMPANY    ID    83815  NaN   \n",
            "2    SUNRISE CREDIT SERVICES, INC    IN    462XX  NaN   \n",
            "3    SUNRISE CREDIT SERVICES, INC    TX    77083  NaN   \n",
            "4    SUNRISE CREDIT SERVICES, INC    FL    336XX  NaN   \n",
            "\n",
            "  Consumer consent provided? Submitted via Date sent to company  \\\n",
            "0           Consent provided           Web           2025-06-15   \n",
            "1           Consent provided           Web           2025-06-13   \n",
            "2           Consent provided           Web           2025-06-12   \n",
            "3           Consent provided           Web           2025-06-12   \n",
            "4           Consent provided           Web           2025-06-12   \n",
            "\n",
            "  Company response to consumer Timely response? Consumer disputed?  \\\n",
            "0      Closed with explanation              Yes                NaN   \n",
            "1      Closed with explanation              Yes                NaN   \n",
            "2      Closed with explanation              Yes                NaN   \n",
            "3      Closed with explanation              Yes                NaN   \n",
            "4      Closed with explanation              Yes                NaN   \n",
            "\n",
            "   Complaint ID  \n",
            "0      14089944  \n",
            "1      14061897  \n",
            "2      14035403  \n",
            "3      14039249  \n",
            "4      14040475  \n"
          ]
        }
      ]
    },
    {
      "cell_type": "code",
      "source": [
        "output_path = '/content/drive/MyDrive/filtered_complaints.csv'\n",
        "df_filtered.to_csv(output_path, index=False)\n",
        "print(f\"Filtered data saved to: {output_path}\")\n"
      ],
      "metadata": {
        "colab": {
          "base_uri": "https://localhost:8080/",
          "height": 356
        },
        "id": "LHKiPhkRAp7_",
        "outputId": "7b0d6ac3-4845-4553-960f-7bcb78ce9328"
      },
      "execution_count": 35,
      "outputs": [
        {
          "output_type": "error",
          "ename": "KeyboardInterrupt",
          "evalue": "",
          "traceback": [
            "\u001b[0;31m---------------------------------------------------------------------------\u001b[0m",
            "\u001b[0;31mKeyboardInterrupt\u001b[0m                         Traceback (most recent call last)",
            "\u001b[0;32m/tmp/ipython-input-35-849336088.py\u001b[0m in \u001b[0;36m<cell line: 0>\u001b[0;34m()\u001b[0m\n\u001b[1;32m      1\u001b[0m \u001b[0moutput_path\u001b[0m \u001b[0;34m=\u001b[0m \u001b[0;34m'/content/drive/MyDrive/filtered_complaints.csv'\u001b[0m\u001b[0;34m\u001b[0m\u001b[0;34m\u001b[0m\u001b[0m\n\u001b[0;32m----> 2\u001b[0;31m \u001b[0mdf_filtered\u001b[0m\u001b[0;34m.\u001b[0m\u001b[0mto_csv\u001b[0m\u001b[0;34m(\u001b[0m\u001b[0moutput_path\u001b[0m\u001b[0;34m,\u001b[0m \u001b[0mindex\u001b[0m\u001b[0;34m=\u001b[0m\u001b[0;32mFalse\u001b[0m\u001b[0;34m)\u001b[0m\u001b[0;34m\u001b[0m\u001b[0;34m\u001b[0m\u001b[0m\n\u001b[0m\u001b[1;32m      3\u001b[0m \u001b[0mprint\u001b[0m\u001b[0;34m(\u001b[0m\u001b[0;34mf\"Filtered data saved to: {output_path}\"\u001b[0m\u001b[0;34m)\u001b[0m\u001b[0;34m\u001b[0m\u001b[0;34m\u001b[0m\u001b[0m\n",
            "\u001b[0;32m/usr/local/lib/python3.11/dist-packages/pandas/util/_decorators.py\u001b[0m in \u001b[0;36mwrapper\u001b[0;34m(*args, **kwargs)\u001b[0m\n\u001b[1;32m    331\u001b[0m                     \u001b[0mstacklevel\u001b[0m\u001b[0;34m=\u001b[0m\u001b[0mfind_stack_level\u001b[0m\u001b[0;34m(\u001b[0m\u001b[0;34m)\u001b[0m\u001b[0;34m,\u001b[0m\u001b[0;34m\u001b[0m\u001b[0;34m\u001b[0m\u001b[0m\n\u001b[1;32m    332\u001b[0m                 )\n\u001b[0;32m--> 333\u001b[0;31m             \u001b[0;32mreturn\u001b[0m \u001b[0mfunc\u001b[0m\u001b[0;34m(\u001b[0m\u001b[0;34m*\u001b[0m\u001b[0margs\u001b[0m\u001b[0;34m,\u001b[0m \u001b[0;34m**\u001b[0m\u001b[0mkwargs\u001b[0m\u001b[0;34m)\u001b[0m\u001b[0;34m\u001b[0m\u001b[0;34m\u001b[0m\u001b[0m\n\u001b[0m\u001b[1;32m    334\u001b[0m \u001b[0;34m\u001b[0m\u001b[0m\n\u001b[1;32m    335\u001b[0m         \u001b[0;31m# error: \"Callable[[VarArg(Any), KwArg(Any)], Any]\" has no\u001b[0m\u001b[0;34m\u001b[0m\u001b[0;34m\u001b[0m\u001b[0m\n",
            "\u001b[0;32m/usr/local/lib/python3.11/dist-packages/pandas/core/generic.py\u001b[0m in \u001b[0;36mto_csv\u001b[0;34m(self, path_or_buf, sep, na_rep, float_format, columns, header, index, index_label, mode, encoding, compression, quoting, quotechar, lineterminator, chunksize, date_format, doublequote, escapechar, decimal, errors, storage_options)\u001b[0m\n\u001b[1;32m   3965\u001b[0m         )\n\u001b[1;32m   3966\u001b[0m \u001b[0;34m\u001b[0m\u001b[0m\n\u001b[0;32m-> 3967\u001b[0;31m         return DataFrameRenderer(formatter).to_csv(\n\u001b[0m\u001b[1;32m   3968\u001b[0m             \u001b[0mpath_or_buf\u001b[0m\u001b[0;34m,\u001b[0m\u001b[0;34m\u001b[0m\u001b[0;34m\u001b[0m\u001b[0m\n\u001b[1;32m   3969\u001b[0m             \u001b[0mlineterminator\u001b[0m\u001b[0;34m=\u001b[0m\u001b[0mlineterminator\u001b[0m\u001b[0;34m,\u001b[0m\u001b[0;34m\u001b[0m\u001b[0;34m\u001b[0m\u001b[0m\n",
            "\u001b[0;32m/usr/local/lib/python3.11/dist-packages/pandas/io/formats/format.py\u001b[0m in \u001b[0;36mto_csv\u001b[0;34m(self, path_or_buf, encoding, sep, columns, index_label, mode, compression, quoting, quotechar, lineterminator, chunksize, date_format, doublequote, escapechar, errors, storage_options)\u001b[0m\n\u001b[1;32m   1012\u001b[0m             \u001b[0mformatter\u001b[0m\u001b[0;34m=\u001b[0m\u001b[0mself\u001b[0m\u001b[0;34m.\u001b[0m\u001b[0mfmt\u001b[0m\u001b[0;34m,\u001b[0m\u001b[0;34m\u001b[0m\u001b[0;34m\u001b[0m\u001b[0m\n\u001b[1;32m   1013\u001b[0m         )\n\u001b[0;32m-> 1014\u001b[0;31m         \u001b[0mcsv_formatter\u001b[0m\u001b[0;34m.\u001b[0m\u001b[0msave\u001b[0m\u001b[0;34m(\u001b[0m\u001b[0;34m)\u001b[0m\u001b[0;34m\u001b[0m\u001b[0;34m\u001b[0m\u001b[0m\n\u001b[0m\u001b[1;32m   1015\u001b[0m \u001b[0;34m\u001b[0m\u001b[0m\n\u001b[1;32m   1016\u001b[0m         \u001b[0;32mif\u001b[0m \u001b[0mcreated_buffer\u001b[0m\u001b[0;34m:\u001b[0m\u001b[0;34m\u001b[0m\u001b[0;34m\u001b[0m\u001b[0m\n",
            "\u001b[0;32m/usr/local/lib/python3.11/dist-packages/pandas/io/formats/csvs.py\u001b[0m in \u001b[0;36msave\u001b[0;34m(self)\u001b[0m\n\u001b[1;32m    268\u001b[0m             )\n\u001b[1;32m    269\u001b[0m \u001b[0;34m\u001b[0m\u001b[0m\n\u001b[0;32m--> 270\u001b[0;31m             \u001b[0mself\u001b[0m\u001b[0;34m.\u001b[0m\u001b[0m_save\u001b[0m\u001b[0;34m(\u001b[0m\u001b[0;34m)\u001b[0m\u001b[0;34m\u001b[0m\u001b[0;34m\u001b[0m\u001b[0m\n\u001b[0m\u001b[1;32m    271\u001b[0m \u001b[0;34m\u001b[0m\u001b[0m\n\u001b[1;32m    272\u001b[0m     \u001b[0;32mdef\u001b[0m \u001b[0m_save\u001b[0m\u001b[0;34m(\u001b[0m\u001b[0mself\u001b[0m\u001b[0;34m)\u001b[0m \u001b[0;34m->\u001b[0m \u001b[0;32mNone\u001b[0m\u001b[0;34m:\u001b[0m\u001b[0;34m\u001b[0m\u001b[0;34m\u001b[0m\u001b[0m\n",
            "\u001b[0;32m/usr/local/lib/python3.11/dist-packages/pandas/io/formats/csvs.py\u001b[0m in \u001b[0;36m_save\u001b[0;34m(self)\u001b[0m\n\u001b[1;32m    273\u001b[0m         \u001b[0;32mif\u001b[0m \u001b[0mself\u001b[0m\u001b[0;34m.\u001b[0m\u001b[0m_need_to_save_header\u001b[0m\u001b[0;34m:\u001b[0m\u001b[0;34m\u001b[0m\u001b[0;34m\u001b[0m\u001b[0m\n\u001b[1;32m    274\u001b[0m             \u001b[0mself\u001b[0m\u001b[0;34m.\u001b[0m\u001b[0m_save_header\u001b[0m\u001b[0;34m(\u001b[0m\u001b[0;34m)\u001b[0m\u001b[0;34m\u001b[0m\u001b[0;34m\u001b[0m\u001b[0m\n\u001b[0;32m--> 275\u001b[0;31m         \u001b[0mself\u001b[0m\u001b[0;34m.\u001b[0m\u001b[0m_save_body\u001b[0m\u001b[0;34m(\u001b[0m\u001b[0;34m)\u001b[0m\u001b[0;34m\u001b[0m\u001b[0;34m\u001b[0m\u001b[0m\n\u001b[0m\u001b[1;32m    276\u001b[0m \u001b[0;34m\u001b[0m\u001b[0m\n\u001b[1;32m    277\u001b[0m     \u001b[0;32mdef\u001b[0m \u001b[0m_save_header\u001b[0m\u001b[0;34m(\u001b[0m\u001b[0mself\u001b[0m\u001b[0;34m)\u001b[0m \u001b[0;34m->\u001b[0m \u001b[0;32mNone\u001b[0m\u001b[0;34m:\u001b[0m\u001b[0;34m\u001b[0m\u001b[0;34m\u001b[0m\u001b[0m\n",
            "\u001b[0;32m/usr/local/lib/python3.11/dist-packages/pandas/io/formats/csvs.py\u001b[0m in \u001b[0;36m_save_body\u001b[0;34m(self)\u001b[0m\n\u001b[1;32m    311\u001b[0m             \u001b[0;32mif\u001b[0m \u001b[0mstart_i\u001b[0m \u001b[0;34m>=\u001b[0m \u001b[0mend_i\u001b[0m\u001b[0;34m:\u001b[0m\u001b[0;34m\u001b[0m\u001b[0;34m\u001b[0m\u001b[0m\n\u001b[1;32m    312\u001b[0m                 \u001b[0;32mbreak\u001b[0m\u001b[0;34m\u001b[0m\u001b[0;34m\u001b[0m\u001b[0m\n\u001b[0;32m--> 313\u001b[0;31m             \u001b[0mself\u001b[0m\u001b[0;34m.\u001b[0m\u001b[0m_save_chunk\u001b[0m\u001b[0;34m(\u001b[0m\u001b[0mstart_i\u001b[0m\u001b[0;34m,\u001b[0m \u001b[0mend_i\u001b[0m\u001b[0;34m)\u001b[0m\u001b[0;34m\u001b[0m\u001b[0;34m\u001b[0m\u001b[0m\n\u001b[0m\u001b[1;32m    314\u001b[0m \u001b[0;34m\u001b[0m\u001b[0m\n\u001b[1;32m    315\u001b[0m     \u001b[0;32mdef\u001b[0m \u001b[0m_save_chunk\u001b[0m\u001b[0;34m(\u001b[0m\u001b[0mself\u001b[0m\u001b[0;34m,\u001b[0m \u001b[0mstart_i\u001b[0m\u001b[0;34m:\u001b[0m \u001b[0mint\u001b[0m\u001b[0;34m,\u001b[0m \u001b[0mend_i\u001b[0m\u001b[0;34m:\u001b[0m \u001b[0mint\u001b[0m\u001b[0;34m)\u001b[0m \u001b[0;34m->\u001b[0m \u001b[0;32mNone\u001b[0m\u001b[0;34m:\u001b[0m\u001b[0;34m\u001b[0m\u001b[0;34m\u001b[0m\u001b[0m\n",
            "\u001b[0;32m/usr/local/lib/python3.11/dist-packages/pandas/io/formats/csvs.py\u001b[0m in \u001b[0;36m_save_chunk\u001b[0;34m(self, start_i, end_i)\u001b[0m\n\u001b[1;32m    322\u001b[0m \u001b[0;34m\u001b[0m\u001b[0m\n\u001b[1;32m    323\u001b[0m         \u001b[0mix\u001b[0m \u001b[0;34m=\u001b[0m \u001b[0mself\u001b[0m\u001b[0;34m.\u001b[0m\u001b[0mdata_index\u001b[0m\u001b[0;34m[\u001b[0m\u001b[0mslicer\u001b[0m\u001b[0;34m]\u001b[0m\u001b[0;34m.\u001b[0m\u001b[0m_get_values_for_csv\u001b[0m\u001b[0;34m(\u001b[0m\u001b[0;34m**\u001b[0m\u001b[0mself\u001b[0m\u001b[0;34m.\u001b[0m\u001b[0m_number_format\u001b[0m\u001b[0;34m)\u001b[0m\u001b[0;34m\u001b[0m\u001b[0;34m\u001b[0m\u001b[0m\n\u001b[0;32m--> 324\u001b[0;31m         libwriters.write_csv_rows(\n\u001b[0m\u001b[1;32m    325\u001b[0m             \u001b[0mdata\u001b[0m\u001b[0;34m,\u001b[0m\u001b[0;34m\u001b[0m\u001b[0;34m\u001b[0m\u001b[0m\n\u001b[1;32m    326\u001b[0m             \u001b[0mix\u001b[0m\u001b[0;34m,\u001b[0m\u001b[0;34m\u001b[0m\u001b[0;34m\u001b[0m\u001b[0m\n",
            "\u001b[0;32mwriters.pyx\u001b[0m in \u001b[0;36mpandas._libs.writers.write_csv_rows\u001b[0;34m()\u001b[0m\n",
            "\u001b[0;31mKeyboardInterrupt\u001b[0m: "
          ]
        }
      ]
    },
    {
      "cell_type": "code",
      "source": [
        "!git clone https://github.com/yesufma/credi-trust-rag-chatbot.git\n"
      ],
      "metadata": {
        "id": "akXimr_xm9ce",
        "outputId": "72633867-d4e4-4416-cf01-abd942e4e0bd",
        "colab": {
          "base_uri": "https://localhost:8080/"
        }
      },
      "execution_count": 36,
      "outputs": [
        {
          "output_type": "stream",
          "name": "stdout",
          "text": [
            "Cloning into 'credi-trust-rag-chatbot'...\n",
            "remote: Enumerating objects: 3, done.\u001b[K\n",
            "remote: Counting objects:  33% (1/3)\u001b[K\rremote: Counting objects:  66% (2/3)\u001b[K\rremote: Counting objects: 100% (3/3)\u001b[K\rremote: Counting objects: 100% (3/3), done.\u001b[K\n",
            "remote: Total 3 (delta 0), reused 0 (delta 0), pack-reused 0 (from 0)\u001b[K\n",
            "Receiving objects:  33% (1/3)\rReceiving objects:  66% (2/3)\rReceiving objects: 100% (3/3)\rReceiving objects: 100% (3/3), done.\n"
          ]
        }
      ]
    },
    {
      "cell_type": "code",
      "source": [
        "%cd credi-trust-rag-chatbot"
      ],
      "metadata": {
        "id": "wzrpZJDInIo_",
        "outputId": "c019adb3-71da-4146-ed20-2188197d15d5",
        "colab": {
          "base_uri": "https://localhost:8080/"
        }
      },
      "execution_count": 37,
      "outputs": [
        {
          "output_type": "stream",
          "name": "stdout",
          "text": [
            "/content/credi-trust-rag-chatbot/credi-trust-rag-chatbot/credi-trust-rag-chatbot\n"
          ]
        }
      ]
    },
    {
      "cell_type": "code",
      "source": [
        "!mkdir -p notebooks src data vector_store\n",
        "\n"
      ],
      "metadata": {
        "id": "HgKbv608nWtm"
      },
      "execution_count": 39,
      "outputs": []
    },
    {
      "cell_type": "code",
      "source": [
        "# Python code files\n",
        "!touch src/data_loader.py\n",
        "!touch src/preprocessing.py\n",
        "!touch src/chunking.py\n",
        "!touch src/rag_pipeline.py\n",
        "!touch src/ui_app.py\n",
        "\n",
        "# Docs and configs\n",
        "!touch README.md requirements.txt .gitignore\n",
        "\n"
      ],
      "metadata": {
        "id": "7i1SFs1pnbyH"
      },
      "execution_count": 40,
      "outputs": []
    },
    {
      "cell_type": "code",
      "source": [
        "\n"
      ],
      "metadata": {
        "id": "trZSZx2ungwD",
        "outputId": "b3c657a5-d57c-4d05-de0c-a9124df362a4",
        "colab": {
          "base_uri": "https://localhost:8080/"
        }
      },
      "execution_count": 27,
      "outputs": [
        {
          "output_type": "stream",
          "name": "stdout",
          "text": [
            "/bin/bash: line 1: tree: command not found\n"
          ]
        }
      ]
    }
  ]
}